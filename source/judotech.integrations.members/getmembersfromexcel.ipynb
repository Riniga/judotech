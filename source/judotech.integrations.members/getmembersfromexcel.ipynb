{
 "cells": [
  {
   "cell_type": "code",
   "execution_count": null,
   "id": "03c29ea3",
   "metadata": {},
   "outputs": [],
   "source": [
    "import pandas as pd\n",
    "from openpyxl import load_workbook\n"
   ]
  },
  {
   "cell_type": "code",
   "execution_count": null,
   "id": "ea05650d",
   "metadata": {},
   "outputs": [],
   "source": [
    "df_medlemmar =  pd.read_excel(r\"G:\\Min enhet\\Styrelsens dokument\\Träning\\Gradering.xlsx\", sheet_name=\"Medlemmar\")\n",
    "df_medlemmar = df_medlemmar.drop(columns=['Skapad', 'Född', 'Startade', 'Tränat (år)' ])\n",
    "df_medlemmar = df_medlemmar[df_medlemmar['Aktiv'] == 'Ja']\n",
    "df_medlemmar['Aktiv'] = True\n",
    "df_medlemmar['Ålder'] = pd.to_numeric(df_medlemmar['Ålder'], errors='coerce').fillna(0)"
   ]
  },
  {
   "cell_type": "code",
   "execution_count": null,
   "id": "db0a8b9d",
   "metadata": {},
   "outputs": [],
   "source": [
    "df_tekniker =  pd.read_excel(r\"G:\\Min enhet\\Styrelsens dokument\\Träning\\Gradering.xlsx\", sheet_name=\"Tekniker\")\n",
    "df_tekniker = df_tekniker[df_tekniker['Version'] == 'ÄJK 1.0']"
   ]
  },
  {
   "cell_type": "code",
   "execution_count": null,
   "id": "e809eadf",
   "metadata": {},
   "outputs": [],
   "source": [
    "df_graderingsregler =  pd.read_excel(r\"G:\\Min enhet\\Styrelsens dokument\\Träning\\Gradering.xlsx\", sheet_name=\"Graderingsregler\")\n",
    "df_graderingsregler = df_graderingsregler.drop(columns=['Ålder', 'Träningspass', '0'])\n",
    "df_graderingsregler['Ålder2'] = pd.to_numeric(df_graderingsregler['Ålder2'], errors='coerce').astype(float)"
   ]
  },
  {
   "cell_type": "code",
   "execution_count": null,
   "id": "8ae6ad3e",
   "metadata": {},
   "outputs": [],
   "source": [
    "age_rules = df_graderingsregler[['Ålder2', 'Dec']].sort_values('Ålder2')\n",
    "tmp = pd.merge_asof( df_medlemmar.reset_index().sort_values('Ålder'), age_rules, left_on='Ålder', right_on='Ålder2', direction='backward')\n",
    "df_medlemmar['Borde_ålder'] = tmp.sort_values('index').set_index('index')['Dec'].values"
   ]
  },
  {
   "cell_type": "code",
   "execution_count": null,
   "id": "124972b4",
   "metadata": {},
   "outputs": [],
   "source": [
    "traningspass_rules = df_graderingsregler[['Akumelerat', 'Dec']].sort_values('Akumelerat')\n",
    "tmp = pd.merge_asof( df_medlemmar.reset_index().sort_values('Närvaro'), traningspass_rules, left_on='Närvaro', right_on='Akumelerat', direction='backward')\n",
    "df_medlemmar['Borde_närvaro'] = tmp.sort_values('index').set_index('index')['Dec'].values\n",
    "\n",
    "df_medlemmar"
   ]
  },
  {
   "cell_type": "code",
   "execution_count": null,
   "id": "92fa54ef",
   "metadata": {},
   "outputs": [],
   "source": [
    "df_medlemmar['Borde'] = df_medlemmar[['Borde_ålder', 'Borde_närvaro']].max(axis=1)\n",
    "df_medlemmar = df_medlemmar.drop(columns=['Borde_ålder', 'Borde_närvaro'])\n",
    "df_medlemmar[df_medlemmar['ID'] == \"BosseAlmén\"]"
   ]
  },
  {
   "cell_type": "code",
   "execution_count": null,
   "id": "13fff534",
   "metadata": {},
   "outputs": [],
   "source": [
    "kyu_to_dec = df_graderingsregler.set_index('Kyu')['Dec']\n",
    "kyu_to_dec"
   ]
  },
  {
   "cell_type": "code",
   "execution_count": null,
   "id": "11b173b2",
   "metadata": {},
   "outputs": [],
   "source": [
    "\n",
    "\n",
    "df_medlemmar['Grad_Dec'] = df_medlemmar['Grad'].map(kyu_to_dec)\n",
    "df_medlemmar['Diff'] = df_medlemmar['Grad_Dec']-df_medlemmar['Borde']\n",
    "df_medlemmar = df_medlemmar.sort_values('Diff')\n",
    "\n",
    "df_medlemmar"
   ]
  },
  {
   "cell_type": "code",
   "execution_count": null,
   "id": "718c45d5",
   "metadata": {},
   "outputs": [],
   "source": [
    "dec_to_kyu = df_graderingsregler.set_index('Dec')['Kyu']\n",
    "df_medlemmar['Borde'] = df_medlemmar['Borde'].map(dec_to_kyu)\n",
    "df_medlemmar = df_medlemmar.drop(columns=['Grad_Dec','Förnamn', 'Efternamn'])\n",
    "df_medlemmar = df_medlemmar.rename(columns={'ID': 'email'})\n",
    "df_medlemmar = df_medlemmar.rename(columns={'Närvaro': 'Attendance'})\n",
    "df_medlemmar = df_medlemmar.rename(columns={'Grad': 'Grade'})\n",
    "df_medlemmar = df_medlemmar.rename(columns={'Aktiv': 'Active'})\n",
    "df_medlemmar = df_medlemmar.rename(columns={'Ålder': 'Age'})\n",
    "\n",
    "\n",
    "\n",
    "\n",
    "df_medlemmar[\"password\"] = \"b252bdb8\"\n",
    "df_medlemmar[\"Club\"] = \"Ängelholms JK\"\n",
    "\n",
    "\n",
    "df_medlemmar"
   ]
  },
  {
   "cell_type": "code",
   "execution_count": null,
   "id": "48372143",
   "metadata": {},
   "outputs": [],
   "source": [
    "df_medlemmar.columns = df_medlemmar.columns.str.lower()\n",
    "df_medlemmar.to_json(r\"..\\judotech.web.club\\source\\data\\medlemmar.json\", orient=\"records\", force_ascii=False, indent=2)\n"
   ]
  }
 ],
 "metadata": {
  "kernelspec": {
   "display_name": "judotech",
   "language": "python",
   "name": "python3"
  },
  "language_info": {
   "codemirror_mode": {
    "name": "ipython",
    "version": 3
   },
   "file_extension": ".py",
   "mimetype": "text/x-python",
   "name": "python",
   "nbconvert_exporter": "python",
   "pygments_lexer": "ipython3",
   "version": "3.13.5"
  }
 },
 "nbformat": 4,
 "nbformat_minor": 5
}
